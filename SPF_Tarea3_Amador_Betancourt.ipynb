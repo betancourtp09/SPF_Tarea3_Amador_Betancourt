{
 "cells": [
  {
   "cell_type": "markdown",
   "id": "1c63bcd8",
   "metadata": {},
   "source": [
    "<img style=\"float: left; margin: 30px 15px 15px 15px;\" src=\"https://pngimage.net/wp-content/uploads/2018/06/logo-iteso-png-5.png\" width=\"300\" height=\"500\" /> \n",
    "    \n",
    "    \n",
    "### <font color='navy'> Simulación de procesos financieros. \n",
    "\n",
    "**Nombres:** Fernanda Amador, Ragnar Betancourt\n",
    "\n",
    "**Fecha:** 16 de Septiembre 2021.\n",
    "\n",
    "**Expediente** : 717467.\n",
    " \n",
    "**Profesor:** Oscar David Jaramillo Zuluaga.\n",
    "    \n",
    "**Link Github**: https://github.com/betancourtp09/SPF_Tarea3_Amador_Betancourt.git\n",
    "# Tarea 3: Clase 6"
   ]
  },
  {
   "cell_type": "markdown",
   "id": "e551a0d2",
   "metadata": {},
   "source": [
    "> ## Tarea 3: (Usando notebook de jupyter)** \n",
    "\n",
    "> Usando compresión de listas o funciones map(sino recuerda como funciona observar el siguiente enlace https://www.pythonforbeginners.com/lists/list-comprehensions-in-python/), resolver los siguientes ejercicios:\n",
    "\n",
    ">1. Resolver la siguiente ecuación recursiva usando funciones como se vió en clase\n",
    "$$ D_{n}=(n-1) D_{n-1}+(n-1) D_{n-2} \\quad n\\ge 3$$\n",
    "con $D_1=0$ y $D_2 = 1$\n",
    ">3. Count the number of spaces in the following string `variable =  relaciónn  requiere,  para obtener  el  valor  de un  cierto  término,  el conocimiento de los dos anteriores`.\n",
    ">4. Remove all of the vowels in a string [make a list of the non-vowels].\n",
    ">5. Find all of the words in a string that are less than 4 letters.\n",
    ">6. Use a dictionary comprehension to count the length of each word in a sentence.\n",
    ">7. Use a nested list comprehension to find all of the numbers from 1-1000 that are divisible by any single digit besides 1 (2-9)."
   ]
  },
  {
   "cell_type": "code",
   "execution_count": null,
   "id": "b927e6d6",
   "metadata": {},
   "outputs": [],
   "source": [
    "#respuesta1 Betancourt"
   ]
  },
  {
   "cell_type": "code",
   "execution_count": null,
   "id": "c56a7016",
   "metadata": {},
   "outputs": [],
   "source": [
    "#respuesta1 Amador"
   ]
  },
  {
   "cell_type": "code",
   "execution_count": null,
   "id": "bf7a3b1a",
   "metadata": {},
   "outputs": [],
   "source": [
    "#respuesta2 Betancourt"
   ]
  },
  {
   "cell_type": "code",
   "execution_count": null,
   "id": "223eb354",
   "metadata": {},
   "outputs": [],
   "source": [
    "#respuesta2 Amador"
   ]
  },
  {
   "cell_type": "code",
   "execution_count": null,
   "id": "61fc1ebb",
   "metadata": {},
   "outputs": [],
   "source": [
    "#respuesta3 Betancourt"
   ]
  },
  {
   "cell_type": "code",
   "execution_count": null,
   "id": "6ede74bf",
   "metadata": {},
   "outputs": [],
   "source": [
    "#respuesta3 Amador"
   ]
  },
  {
   "cell_type": "code",
   "execution_count": null,
   "id": "c217947a",
   "metadata": {},
   "outputs": [],
   "source": [
    "#respuesta4 Betancourt"
   ]
  },
  {
   "cell_type": "code",
   "execution_count": null,
   "id": "f165294d",
   "metadata": {},
   "outputs": [],
   "source": [
    "#respuesta4 Amador"
   ]
  },
  {
   "cell_type": "code",
   "execution_count": null,
   "id": "64ef28f3",
   "metadata": {},
   "outputs": [],
   "source": [
    "#respuesta5 Betancourt"
   ]
  },
  {
   "cell_type": "code",
   "execution_count": null,
   "id": "466ef42f",
   "metadata": {},
   "outputs": [],
   "source": [
    "#respuesta5 Amador"
   ]
  },
  {
   "cell_type": "code",
   "execution_count": null,
   "id": "81dad343",
   "metadata": {},
   "outputs": [],
   "source": [
    "#respuesta6 Betancourt"
   ]
  },
  {
   "cell_type": "code",
   "execution_count": null,
   "id": "78ccb62a",
   "metadata": {},
   "outputs": [],
   "source": [
    "#respuesta6 Amador"
   ]
  }
 ],
 "metadata": {
  "kernelspec": {
   "display_name": "Python 3",
   "language": "python",
   "name": "python3"
  },
  "language_info": {
   "codemirror_mode": {
    "name": "ipython",
    "version": 3
   },
   "file_extension": ".py",
   "mimetype": "text/x-python",
   "name": "python",
   "nbconvert_exporter": "python",
   "pygments_lexer": "ipython3",
   "version": "3.8.8"
  }
 },
 "nbformat": 4,
 "nbformat_minor": 5
}
